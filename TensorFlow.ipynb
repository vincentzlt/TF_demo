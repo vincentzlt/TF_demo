{
 "cells": [
  {
   "cell_type": "code",
   "execution_count": 1,
   "metadata": {
    "collapsed": true
   },
   "outputs": [],
   "source": [
    "import tensorflow as tf\n",
    "import numpy as np"
   ]
  },
  {
   "cell_type": "code",
   "execution_count": 2,
   "metadata": {
    "collapsed": true
   },
   "outputs": [],
   "source": [
    "x_data = np.float32(np.random.rand(2, 100))\n",
    "y_data = np.dot([0.100, 0.200], x_data) + 0.300"
   ]
  },
  {
   "cell_type": "code",
   "execution_count": 5,
   "metadata": {
    "collapsed": true
   },
   "outputs": [],
   "source": [
    "b = tf.Variable(tf.zeros([1]))\n",
    "W = tf.Variable(tf.random_uniform([1, 2], -1.0, 1.0))\n",
    "y = tf.matmul(W, x_data) + b"
   ]
  },
  {
   "cell_type": "code",
   "execution_count": 6,
   "metadata": {
    "collapsed": true
   },
   "outputs": [],
   "source": [
    "loss = tf.reduce_mean(tf.square(y - y_data))\n",
    "optimizer = tf.train.GradientDescentOptimizer(0.5)\n",
    "train = optimizer.minimize(loss)"
   ]
  },
  {
   "cell_type": "code",
   "execution_count": 8,
   "metadata": {
    "collapsed": false
   },
   "outputs": [],
   "source": [
    "init = tf.global_variables_initializer()"
   ]
  },
  {
   "cell_type": "code",
   "execution_count": 9,
   "metadata": {
    "collapsed": true
   },
   "outputs": [],
   "source": [
    "sess = tf.Session()\n",
    "sess.run(init)"
   ]
  },
  {
   "cell_type": "code",
   "execution_count": 13,
   "metadata": {
    "collapsed": false
   },
   "outputs": [
    {
     "name": "stdout",
     "output_type": "stream",
     "text": [
      "0 [[-0.19875538  0.45834109]] [ 0.81765682]\n",
      "20 [[-0.01169115  0.19077277]] [ 0.36895114]\n",
      "40 [[ 0.07112643  0.19080628]] [ 0.32137185]\n",
      "60 [[ 0.09204754  0.19619448]] [ 0.30655]\n",
      "80 [[ 0.09771834  0.19868462]] [ 0.30199578]\n",
      "100 [[ 0.09932934  0.19957568]] [ 0.30060628]\n",
      "120 [[ 0.09980018  0.19986737]] [ 0.30018386]\n",
      "140 [[ 0.09994002  0.19995919]] [ 0.30005574]\n",
      "160 [[ 0.09998191  0.19998753]] [ 0.30001688]\n",
      "180 [[ 0.09999453  0.1999962 ]] [ 0.30000511]\n",
      "200 [[ 0.09999835  0.19999884]] [ 0.30000153]\n"
     ]
    }
   ],
   "source": [
    "for step in range(0, 201):\n",
    "    sess.run(train)\n",
    "    if step % 20 == 0:\n",
    "        print(step, sess.run(W), sess.run(b))"
   ]
  },
  {
   "cell_type": "code",
   "execution_count": 20,
   "metadata": {
    "collapsed": false
   },
   "outputs": [],
   "source": [
    "matrix1=tf.constant([[1.0,2.0,3.0]])\n",
    "matrix2=tf.constant([[2.1],[2.2],[2.3]])\n",
    "prod=tf.matmul(matrix1,matrix2)"
   ]
  },
  {
   "cell_type": "code",
   "execution_count": 25,
   "metadata": {
    "collapsed": false
   },
   "outputs": [
    {
     "name": "stdout",
     "output_type": "stream",
     "text": [
      "[array([[ 13.39999962]], dtype=float32)]\n"
     ]
    }
   ],
   "source": [
    "with tf.Session() as sess:\n",
    "  result = sess.run([prod])\n",
    "  print(result)"
   ]
  },
  {
   "cell_type": "code",
   "execution_count": 28,
   "metadata": {
    "collapsed": false
   },
   "outputs": [
    {
     "name": "stdout",
     "output_type": "stream",
     "text": [
      "[-2. -1.]\n"
     ]
    }
   ],
   "source": [
    "# 进入一个交互式 TensorFlow 会话.\n",
    "import tensorflow as tf\n",
    "sess = tf.InteractiveSession()\n",
    "\n",
    "x = tf.Variable([1.0, 2.0])\n",
    "a = tf.constant([3.0, 3.0])\n",
    "\n",
    "# 使用初始化器 initializer op 的 run() 方法初始化 'x' \n",
    "x.initializer.run()\n",
    "\n",
    "# 增加一个减法 sub op, 从 'x' 减去 'a'. 运行减法 op, 输出结果 \n",
    "sub = tf.sub(x, a)\n",
    "print(sub.eval())\n",
    "# ==> [-2. -1.]"
   ]
  },
  {
   "cell_type": "code",
   "execution_count": 29,
   "metadata": {
    "collapsed": true
   },
   "outputs": [],
   "source": [
    "# 创建一个变量, 初始化为标量 0.\n",
    "state = tf.Variable(0, name=\"counter\")\n",
    "\n",
    "# 创建一个 op, 其作用是使 state 增加 1\n",
    "\n",
    "one = tf.constant(1)\n",
    "new_value = tf.add(state, one)\n",
    "update = tf.assign(state, new_value)"
   ]
  },
  {
   "cell_type": "code",
   "execution_count": 31,
   "metadata": {
    "collapsed": false
   },
   "outputs": [],
   "source": [
    "# 启动图后, 变量必须先经过`初始化` (init) op 初始化,\n",
    "# 首先必须增加一个`初始化` op 到图中.\n",
    "init_op = tf.global_variables_initializer()"
   ]
  },
  {
   "cell_type": "code",
   "execution_count": 32,
   "metadata": {
    "collapsed": false
   },
   "outputs": [
    {
     "name": "stdout",
     "output_type": "stream",
     "text": [
      "0\n",
      "1\n",
      "2\n",
      "3\n"
     ]
    }
   ],
   "source": [
    "# 启动图, 运行 op\n",
    "with tf.Session() as sess:\n",
    "  # 运行 'init' op\n",
    "  sess.run(init_op)\n",
    "  # 打印 'state' 的初始值\n",
    "  print(sess.run(state))\n",
    "  # 运行 op, 更新 'state', 并打印 'state'\n",
    "  for _ in range(3):\n",
    "    sess.run(update)\n",
    "    print(sess.run(state))"
   ]
  },
  {
   "cell_type": "code",
   "execution_count": 33,
   "metadata": {
    "collapsed": false
   },
   "outputs": [
    {
     "name": "stdout",
     "output_type": "stream",
     "text": [
      "Tensor(\"Const_11:0\", shape=(), dtype=float32) Tensor(\"Const_12:0\", shape=(), dtype=float32)\n"
     ]
    }
   ],
   "source": [
    "node1 = tf.constant(3.0, tf.float32)\n",
    "node2 = tf.constant(4.0) # also tf.float32 implicitly\n",
    "print(node1, node2)"
   ]
  },
  {
   "cell_type": "code",
   "execution_count": 34,
   "metadata": {
    "collapsed": false
   },
   "outputs": [
    {
     "name": "stdout",
     "output_type": "stream",
     "text": [
      "[3.0, 4.0]\n"
     ]
    }
   ],
   "source": [
    "sess = tf.Session()\n",
    "print(sess.run([node1, node2]))"
   ]
  },
  {
   "cell_type": "code",
   "execution_count": 35,
   "metadata": {
    "collapsed": false
   },
   "outputs": [
    {
     "name": "stdout",
     "output_type": "stream",
     "text": [
      "node3:  Tensor(\"Add_1:0\", shape=(), dtype=float32)\n",
      "sess.run(node3):  7.0\n"
     ]
    }
   ],
   "source": [
    "node3 = tf.add(node1, node2)\n",
    "print(\"node3: \", node3)\n",
    "print(\"sess.run(node3): \",sess.run(node3))"
   ]
  },
  {
   "cell_type": "code",
   "execution_count": 36,
   "metadata": {
    "collapsed": true
   },
   "outputs": [],
   "source": [
    "a = tf.placeholder(tf.float32)\n",
    "b = tf.placeholder(tf.float32)\n",
    "adder_node = a + b  # + provides a shortcut for tf.add(a, b)"
   ]
  },
  {
   "cell_type": "code",
   "execution_count": 37,
   "metadata": {
    "collapsed": false
   },
   "outputs": [
    {
     "name": "stdout",
     "output_type": "stream",
     "text": [
      "7.5\n",
      "[ 3.  7.]\n"
     ]
    }
   ],
   "source": [
    "print(sess.run(adder_node, {a: 3, b:4.5}))\n",
    "print(sess.run(adder_node, {a: [1,3], b: [2, 4]}))"
   ]
  },
  {
   "cell_type": "code",
   "execution_count": 38,
   "metadata": {
    "collapsed": false
   },
   "outputs": [
    {
     "name": "stdout",
     "output_type": "stream",
     "text": [
      "22.5\n"
     ]
    }
   ],
   "source": [
    "add_and_triple = adder_node * 3.\n",
    "print(sess.run(add_and_triple, {a: 3, b:4.5}))"
   ]
  },
  {
   "cell_type": "code",
   "execution_count": 39,
   "metadata": {
    "collapsed": true
   },
   "outputs": [],
   "source": [
    "W = tf.Variable([.3], tf.float32)\n",
    "b = tf.Variable([-.3], tf.float32)\n",
    "x = tf.placeholder(tf.float32)\n",
    "linear_model = W * x + b"
   ]
  },
  {
   "cell_type": "code",
   "execution_count": 40,
   "metadata": {
    "collapsed": true
   },
   "outputs": [],
   "source": [
    "init = tf.global_variables_initializer()\n",
    "sess.run(init)"
   ]
  },
  {
   "cell_type": "code",
   "execution_count": 41,
   "metadata": {
    "collapsed": false
   },
   "outputs": [
    {
     "name": "stdout",
     "output_type": "stream",
     "text": [
      "23.66\n"
     ]
    }
   ],
   "source": [
    "y = tf.placeholder(tf.float32)\n",
    "squared_deltas = tf.square(linear_model - y)\n",
    "loss = tf.reduce_sum(squared_deltas)\n",
    "print(sess.run(loss, {x:[1,2,3,4], y:[0,-1,-2,-3]}))"
   ]
  },
  {
   "cell_type": "code",
   "execution_count": 42,
   "metadata": {
    "collapsed": false
   },
   "outputs": [
    {
     "name": "stdout",
     "output_type": "stream",
     "text": [
      "0.0\n"
     ]
    }
   ],
   "source": [
    "fixW = tf.assign(W, [-1.])\n",
    "fixb = tf.assign(b, [1.])\n",
    "sess.run([fixW, fixb])\n",
    "print(sess.run(loss, {x:[1,2,3,4], y:[0,-1,-2,-3]}))"
   ]
  },
  {
   "cell_type": "code",
   "execution_count": 61,
   "metadata": {
    "collapsed": true
   },
   "outputs": [],
   "source": [
    "optimizer = tf.train.GradientDescentOptimizer(0.01)\n",
    "train = optimizer.minimize(loss)"
   ]
  },
  {
   "cell_type": "code",
   "execution_count": 62,
   "metadata": {
    "collapsed": false
   },
   "outputs": [
    {
     "name": "stdout",
     "output_type": "stream",
     "text": [
      "[array([-0.21999997], dtype=float32), array([-0.45600003], dtype=float32)]\n",
      "[array([-0.39679998], dtype=float32), array([-0.49552003], dtype=float32)]\n",
      "[array([-0.45961598], dtype=float32), array([-0.49651843], dtype=float32)]\n",
      "[array([-0.4845427], dtype=float32), array([-0.48487377], dtype=float32)]\n",
      "[array([-0.49684232], dtype=float32), array([-0.46917534], dtype=float32)]\n",
      "[array([-0.50490189], dtype=float32), array([-0.45227286], dtype=float32)]\n",
      "[array([-0.5115062], dtype=float32), array([-0.43511066], dtype=float32)]\n",
      "[array([-0.51758033], dtype=float32), array([-0.41800058], dtype=float32)]\n",
      "[array([-0.52343202], dtype=float32), array([-0.40104446], dtype=float32)]\n",
      "[array([-0.5291639], dtype=float32), array([-0.38427451], dtype=float32)]\n",
      "[array([-0.53481066], dtype=float32), array([-0.36769977], dtype=float32)]\n",
      "[array([-0.54038429], dtype=float32), array([-0.35132167], dtype=float32)]\n",
      "[array([-0.54588938], dtype=float32), array([-0.33513907], dtype=float32)]\n",
      "[array([-0.55132794], dtype=float32), array([-0.31915006], dtype=float32)]\n",
      "[array([-0.55670118], dtype=float32), array([-0.30335248], dtype=float32)]\n",
      "[array([-0.56200999], dtype=float32), array([-0.28774405], dtype=float32)]\n",
      "[array([-0.5672552], dtype=float32), array([-0.27232254], dtype=float32)]\n",
      "[array([-0.57243758], dtype=float32), array([-0.25708571], dtype=float32)]\n",
      "[array([-0.57755786], dtype=float32), array([-0.24203134], dtype=float32)]\n",
      "[array([-0.58261687], dtype=float32), array([-0.22715725], dtype=float32)]\n",
      "[array([-0.58761531], dtype=float32), array([-0.21246129], dtype=float32)]\n",
      "[array([-0.59255385], dtype=float32), array([-0.19794133], dtype=float32)]\n",
      "[array([-0.59743327], dtype=float32), array([-0.18359526], dtype=float32)]\n",
      "[array([-0.60225427], dtype=float32), array([-0.16942099], dtype=float32)]\n",
      "[array([-0.60701752], dtype=float32), array([-0.15541646], dtype=float32)]\n",
      "[array([-0.61172372], dtype=float32), array([-0.14157964], dtype=float32)]\n",
      "[array([-0.61637354], dtype=float32), array([-0.12790853], dtype=float32)]\n",
      "[array([-0.62096775], dtype=float32), array([-0.11440115], dtype=float32)]\n",
      "[array([-0.62550688], dtype=float32), array([-0.10105551], dtype=float32)]\n",
      "[array([-0.62999165], dtype=float32), array([-0.08786969], dtype=float32)]\n",
      "[array([-0.63442272], dtype=float32), array([-0.07484178], dtype=float32)]\n",
      "[array([-0.63880074], dtype=float32), array([-0.0619699], dtype=float32)]\n",
      "[array([-0.64312631], dtype=float32), array([-0.04925216], dtype=float32)]\n",
      "[array([-0.64740008], dtype=float32), array([-0.03668672], dtype=float32)]\n",
      "[array([-0.65162271], dtype=float32), array([-0.02427177], dtype=float32)]\n",
      "[array([-0.65579474], dtype=float32), array([-0.01200549], dtype=float32)]\n",
      "[array([-0.65991682], dtype=float32), array([ 0.0001139], dtype=float32)]\n",
      "[array([-0.66398948], dtype=float32), array([ 0.01208815], dtype=float32)]\n",
      "[array([-0.66801345], dtype=float32), array([ 0.02391899], dtype=float32)]\n",
      "[array([-0.6719892], dtype=float32), array([ 0.03560816], dtype=float32)]\n",
      "[array([-0.67591733], dtype=float32), array([ 0.04715735], dtype=float32)]\n",
      "[array([-0.67979842], dtype=float32), array([ 0.05856822], dtype=float32)]\n",
      "[array([-0.68363303], dtype=float32), array([ 0.06984245], dtype=float32)]\n",
      "[array([-0.68742168], dtype=float32), array([ 0.08098166], dtype=float32)]\n",
      "[array([-0.69116503], dtype=float32), array([ 0.09198746], dtype=float32)]\n",
      "[array([-0.6948635], dtype=float32), array([ 0.10286147], dtype=float32)]\n",
      "[array([-0.69851768], dtype=float32), array([ 0.11360525], dtype=float32)]\n",
      "[array([-0.70212811], dtype=float32), array([ 0.12422036], dtype=float32)]\n",
      "[array([-0.70569533], dtype=float32), array([ 0.13470836], dtype=float32)]\n",
      "[array([-0.70921981], dtype=float32), array([ 0.14507075], dtype=float32)]\n",
      "[array([-0.7127021], dtype=float32), array([ 0.15530905], dtype=float32)]\n",
      "[array([-0.71614265], dtype=float32), array([ 0.16542475], dtype=float32)]\n",
      "[array([-0.71954203], dtype=float32), array([ 0.1754193], dtype=float32)]\n",
      "[array([-0.72290069], dtype=float32), array([ 0.18529417], dtype=float32)]\n",
      "[array([-0.72621912], dtype=float32), array([ 0.19505078], dtype=float32)]\n",
      "[array([-0.72949779], dtype=float32), array([ 0.20469053], dtype=float32)]\n",
      "[array([-0.73273724], dtype=float32), array([ 0.21421485], dtype=float32)]\n",
      "[array([-0.73593783], dtype=float32), array([ 0.22362511], dtype=float32)]\n",
      "[array([-0.73910016], dtype=float32), array([ 0.23292267], dtype=float32)]\n",
      "[array([-0.74222463], dtype=float32), array([ 0.24210888], dtype=float32)]\n",
      "[array([-0.74531162], dtype=float32), array([ 0.25118509], dtype=float32)]\n",
      "[array([-0.74836165], dtype=float32), array([ 0.26015261], dtype=float32)]\n",
      "[array([-0.7513752], dtype=float32), array([ 0.26901272], dtype=float32)]\n",
      "[array([-0.75435263], dtype=float32), array([ 0.27776673], dtype=float32)]\n",
      "[array([-0.75729442], dtype=float32), array([ 0.28641593], dtype=float32)]\n",
      "[array([-0.76020098], dtype=float32), array([ 0.29496154], dtype=float32)]\n",
      "[array([-0.76307267], dtype=float32), array([ 0.30340481], dtype=float32)]\n",
      "[array([-0.76591003], dtype=float32), array([ 0.31174695], dtype=float32)]\n",
      "[array([-0.76871341], dtype=float32), array([ 0.3199892], dtype=float32)]\n",
      "[array([-0.77148318], dtype=float32), array([ 0.32813275], dtype=float32)]\n",
      "[array([-0.77421981], dtype=float32), array([ 0.33617878], dtype=float32)]\n",
      "[array([-0.77692366], dtype=float32), array([ 0.34412843], dtype=float32)]\n",
      "[array([-0.77959514], dtype=float32), array([ 0.35198289], dtype=float32)]\n",
      "[array([-0.78223461], dtype=float32), array([ 0.3597433], dtype=float32)]\n",
      "[array([-0.78484249], dtype=float32), array([ 0.36741075], dtype=float32)]\n",
      "[array([-0.78741914], dtype=float32), array([ 0.37498638], dtype=float32)]\n",
      "[array([-0.78996491], dtype=float32), array([ 0.38247129], dtype=float32)]\n",
      "[array([-0.79248023], dtype=float32), array([ 0.38986656], dtype=float32)]\n",
      "[array([-0.79496539], dtype=float32), array([ 0.39717329], dtype=float32)]\n",
      "[array([-0.7974208], dtype=float32), array([ 0.40439251], dtype=float32)]\n",
      "[array([-0.79984683], dtype=float32), array([ 0.41152528], dtype=float32)]\n",
      "[array([-0.80224377], dtype=float32), array([ 0.41857263], dtype=float32)]\n",
      "[array([-0.80461204], dtype=float32), array([ 0.42553559], dtype=float32)]\n",
      "[array([-0.80695194], dtype=float32), array([ 0.43241516], dtype=float32)]\n",
      "[array([-0.80926383], dtype=float32), array([ 0.43921232], dtype=float32)]\n",
      "[array([-0.81154799], dtype=float32), array([ 0.4459281], dtype=float32)]\n",
      "[array([-0.81380481], dtype=float32), array([ 0.45256343], dtype=float32)]\n",
      "[array([-0.81603462], dtype=float32), array([ 0.45911932], dtype=float32)]\n",
      "[array([-0.81823772], dtype=float32), array([ 0.46559671], dtype=float32)]\n",
      "[array([-0.82041442], dtype=float32), array([ 0.47199652], dtype=float32)]\n",
      "[array([-0.82256508], dtype=float32), array([ 0.47831967], dtype=float32)]\n",
      "[array([-0.82468998], dtype=float32), array([ 0.48456711], dtype=float32)]\n",
      "[array([-0.82678944], dtype=float32), array([ 0.49073973], dtype=float32)]\n",
      "[array([-0.82886374], dtype=float32), array([ 0.49683845], dtype=float32)]\n",
      "[array([-0.83091319], dtype=float32), array([ 0.50286412], dtype=float32)]\n",
      "[array([-0.83293808], dtype=float32), array([ 0.50881761], dtype=float32)]\n",
      "[array([-0.83493876], dtype=float32), array([ 0.51469982], dtype=float32)]\n",
      "[array([-0.83691549], dtype=float32), array([ 0.52051157], dtype=float32)]\n",
      "[array([-0.8388685], dtype=float32), array([ 0.52625376], dtype=float32)]\n",
      "[array([-0.84079814], dtype=float32), array([ 0.53192717], dtype=float32)]\n"
     ]
    }
   ],
   "source": [
    "sess.run(init) # reset values to incorrect defaults.\n",
    "for i in range(100):\n",
    "    sess.run(train, {x:[1,2,3,4], y:[0,-1,-2,-3]})\n",
    "    print(sess.run([W, b]))"
   ]
  },
  {
   "cell_type": "code",
   "execution_count": 65,
   "metadata": {
    "collapsed": false
   },
   "outputs": [
    {
     "name": "stdout",
     "output_type": "stream",
     "text": [
      "WARNING:tensorflow:Using temporary folder as model directory: /var/folders/fs/tfvnw7v14wqb9n9l16hq49k40000gn/T/tmpkx4ue63b\n",
      "INFO:tensorflow:Using default config.\n",
      "INFO:tensorflow:Using config: {'_task_type': None, '_task_id': 0, '_cluster_spec': <tensorflow.python.training.server_lib.ClusterSpec object at 0x119bd27f0>, '_master': '', '_num_ps_replicas': 0, '_environment': 'local', '_is_chief': True, '_evaluation_master': '', 'tf_config': gpu_options {\n",
      "  per_process_gpu_memory_fraction: 1\n",
      "}\n",
      ", 'tf_random_seed': None, 'save_summary_steps': 100, 'save_checkpoints_secs': 600, 'save_checkpoints_steps': None, 'keep_checkpoint_max': 5, 'keep_checkpoint_every_n_hours': 10000}\n"
     ]
    },
    {
     "ename": "TypeError",
     "evalue": "'module' object is not callable",
     "output_type": "error",
     "traceback": [
      "\u001b[0;31m---------------------------------------------------------------------------\u001b[0m",
      "\u001b[0;31mTypeError\u001b[0m                                 Traceback (most recent call last)",
      "\u001b[0;32m<ipython-input-65-96e34fff8a40>\u001b[0m in \u001b[0;36m<module>\u001b[0;34m()\u001b[0m\n\u001b[1;32m     20\u001b[0m \u001b[0my\u001b[0m \u001b[0;34m=\u001b[0m \u001b[0mnp\u001b[0m\u001b[0;34m.\u001b[0m\u001b[0marray\u001b[0m\u001b[0;34m(\u001b[0m\u001b[0;34m[\u001b[0m\u001b[0;36m0.\u001b[0m\u001b[0;34m,\u001b[0m \u001b[0;34m-\u001b[0m\u001b[0;36m1.\u001b[0m\u001b[0;34m,\u001b[0m \u001b[0;34m-\u001b[0m\u001b[0;36m2.\u001b[0m\u001b[0;34m,\u001b[0m \u001b[0;34m-\u001b[0m\u001b[0;36m3.\u001b[0m\u001b[0;34m]\u001b[0m\u001b[0;34m)\u001b[0m\u001b[0;34m\u001b[0m\u001b[0m\n\u001b[1;32m     21\u001b[0m input_fn = tf.contrib.learn.io.data_feeder({\"x\":x}, y, batch_size=4,\n\u001b[0;32m---> 22\u001b[0;31m                                               num_epochs=1000)\n\u001b[0m\u001b[1;32m     23\u001b[0m \u001b[0;34m\u001b[0m\u001b[0m\n\u001b[1;32m     24\u001b[0m \u001b[0;31m# We can invoke 1000 training steps by invoking the `fit` method and passing the\u001b[0m\u001b[0;34m\u001b[0m\u001b[0;34m\u001b[0m\u001b[0m\n",
      "\u001b[0;31mTypeError\u001b[0m: 'module' object is not callable"
     ]
    }
   ],
   "source": [
    "import tensorflow as tf\n",
    "# NumPy is often used to load, manipulate and preprocess data.\n",
    "import numpy as np\n",
    "\n",
    "# Declare list of features. We only have one real-valued feature. There are many\n",
    "# other types of columns that are more complicated and useful.\n",
    "features = [tf.contrib.layers.real_valued_column(\"x\", dimension=1)]\n",
    "\n",
    "# An estimator is the front end to invoke training (fitting) and evaluation\n",
    "# (inference). There are many predefined types like linear regression,\n",
    "# logistic regression, linear classification, logistic classification, and\n",
    "# many neural network classifiers and regressors. The following code\n",
    "# provides an estimator that does linear regression.\n",
    "estimator = tf.contrib.learn.LinearRegressor(feature_columns=features)\n",
    "\n",
    "# TensorFlow provides many helper methods to read and set up data sets.\n",
    "# Here we use `numpy_input_fn`. We have to tell the function how many batches\n",
    "# of data (num_epochs) we want and how big each batch should be.\n",
    "x = np.array([1., 2., 3., 4.])\n",
    "y = np.array([0., -1., -2., -3.])\n",
    "input_fn = tf.contrib.learn.io.data_feeder({\"x\":x}, y, batch_size=4,\n",
    "                                              num_epochs=1000)\n",
    "\n",
    "# We can invoke 1000 training steps by invoking the `fit` method and passing the\n",
    "# training data set.\n",
    "estimator.fit(input_fn=input_fn, steps=1000)\n",
    "\n",
    "# Here we evaluate how well our model did. In a real example, we would want\n",
    "# to use a separate validation and testing data set to avoid overfitting.\n",
    "estimator.evaluate(input_fn=input_fn)"
   ]
  },
  {
   "cell_type": "code",
   "execution_count": null,
   "metadata": {
    "collapsed": true
   },
   "outputs": [],
   "source": []
  }
 ],
 "metadata": {
  "kernelspec": {
   "display_name": "Python 3",
   "language": "python",
   "name": "python3"
  },
  "language_info": {
   "codemirror_mode": {
    "name": "ipython",
    "version": 3
   },
   "file_extension": ".py",
   "mimetype": "text/x-python",
   "name": "python",
   "nbconvert_exporter": "python",
   "pygments_lexer": "ipython3",
   "version": "3.6.0"
  }
 },
 "nbformat": 4,
 "nbformat_minor": 2
}
